{
 "cells": [
  {
   "cell_type": "code",
   "execution_count": null,
   "id": "32b5db7f",
   "metadata": {},
   "outputs": [],
   "source": [
    "'''\n",
    "Случайный лес.\n",
    "Датасет \"Титаник\"\n",
    "'''"
   ]
  },
  {
   "cell_type": "code",
   "execution_count": 1,
   "id": "17a4881d",
   "metadata": {},
   "outputs": [],
   "source": [
    "import numpy as np\n",
    "import pandas as pd\n",
    "import os\n",
    "\n",
    "from sklearn.ensemble import RandomForestClassifier\n",
    "from sklearn import preprocessing"
   ]
  },
  {
   "cell_type": "code",
   "execution_count": 2,
   "id": "5efc112e",
   "metadata": {},
   "outputs": [],
   "source": [
    "titanic_train = pd.read_csv(\"train.csv\")\n",
    "\n",
    "new_age_var = np.where(titanic_train[\"Age\"].isnull(),\n",
    "                       28,\n",
    "                       titanic_train[\"Age\"])\n",
    "\n",
    "titanic_train[\"Age\"] = new_age_var "
   ]
  },
  {
   "cell_type": "code",
   "execution_count": 3,
   "id": "ac6a53a0",
   "metadata": {},
   "outputs": [
    {
     "name": "stdout",
     "output_type": "stream",
     "text": [
      "Точность ООB: \n",
      "0.819304152637486\n"
     ]
    }
   ],
   "source": [
    "# Задаем сид\n",
    "np.random.seed(12)\n",
    "\n",
    "# Инициализируем\n",
    "label_encoder = preprocessing.LabelEncoder()\n",
    "\n",
    "# Преобразовываем sex в числовую переменную\n",
    "titanic_train[\"Sex\"] = label_encoder.fit_transform(titanic_train[\"Sex\"])\n",
    "\n",
    "# Инициализируем модель\n",
    "rf_model = RandomForestClassifier(n_estimators=1000, # Количество деревьев\n",
    "                                  max_features=2,    # Количество рассмотренных функций\n",
    "                                  oob_score=True)    # Использовать OOB скоринг. OOB - метод проверки.\n",
    "\n",
    "features = [\"Sex\",\"Pclass\",\"SibSp\",\"Age\",\"Fare\"]\n",
    "\n",
    "# Тренируем модель\n",
    "rf_model.fit(X=titanic_train[features],\n",
    "             y=titanic_train[\"Survived\"])\n",
    "\n",
    "print(\"Точность ООB: \")\n",
    "print(rf_model.oob_score_)"
   ]
  },
  {
   "cell_type": "code",
   "execution_count": 4,
   "id": "1e4da478",
   "metadata": {},
   "outputs": [
    {
     "name": "stdout",
     "output_type": "stream",
     "text": [
      "Sex 0.2734664424750403\n",
      "Pclass 0.09002593001585939\n",
      "SibSp 0.048686858870217925\n",
      "Age 0.27668347382949054\n",
      "Fare 0.3111372948093918\n"
     ]
    }
   ],
   "source": [
    "for feature, imp in zip(features, rf_model.feature_importances_):\n",
    "    print(feature, imp)"
   ]
  },
  {
   "cell_type": "code",
   "execution_count": null,
   "id": "8a314aa4",
   "metadata": {},
   "outputs": [],
   "source": [
    "'''\n",
    "Прповерим на тестовом наборе данных\n",
    "'''"
   ]
  },
  {
   "cell_type": "code",
   "execution_count": 5,
   "id": "98726f77",
   "metadata": {},
   "outputs": [],
   "source": [
    "titanic_test = pd.read_csv(\"test.csv\")\n",
    "\n",
    "new_age_var = np.where(titanic_test[\"Age\"].isnull(),\n",
    "                       28,                      \n",
    "                       titanic_test[\"Age\"])      \n",
    "\n",
    "titanic_test[\"Age\"] = new_age_var \n",
    "\n",
    "# Установим стоимость билета 50\n",
    "new_fare_var = np.where(titanic_test[\"Fare\"].isnull(),\n",
    "                       50,                      \n",
    "                       titanic_test[\"Fare\"])      \n",
    "\n",
    "titanic_test[\"Fare\"] = new_fare_var \n",
    "\n",
    "# Преобразуем категориальные переменные в числовые\n",
    "titanic_test[\"Sex\"] = label_encoder.fit_transform(titanic_test[\"Sex\"])"
   ]
  },
  {
   "cell_type": "code",
   "execution_count": 6,
   "id": "8c982c2d",
   "metadata": {},
   "outputs": [],
   "source": [
    "test_preds = rf_model.predict(X = titanic_test[features])\n",
    "\n",
    "submission = pd.DataFrame({\"PassengerId\":titanic_test[\"PassengerId\"],\n",
    "                           \"Survived\":test_preds})\n",
    "\n",
    "# Сохраним в csv\n",
    "submission.to_csv(\"tutorial_randomForest_submission.csv\", \n",
    "                  index=False)        # Do not save index values"
   ]
  },
  {
   "cell_type": "code",
   "execution_count": null,
   "id": "08ba8ef5",
   "metadata": {},
   "outputs": [],
   "source": [
    "'''\n",
    "Модель не очень точная, около 75 процентов.\n",
    "Это говорит о необходимости ее доработки и улучшения.\n",
    "'''"
   ]
  }
 ],
 "metadata": {
  "kernelspec": {
   "display_name": "Python 3 (ipykernel)",
   "language": "python",
   "name": "python3"
  },
  "language_info": {
   "codemirror_mode": {
    "name": "ipython",
    "version": 3
   },
   "file_extension": ".py",
   "mimetype": "text/x-python",
   "name": "python",
   "nbconvert_exporter": "python",
   "pygments_lexer": "ipython3",
   "version": "3.9.13"
  }
 },
 "nbformat": 4,
 "nbformat_minor": 5
}
